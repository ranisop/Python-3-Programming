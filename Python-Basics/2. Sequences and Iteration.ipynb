{
 "cells": [
  {
   "cell_type": "markdown",
   "metadata": {},
   "source": [
    "## Lists and Strings"
   ]
  },
  {
   "cell_type": "markdown",
   "metadata": {},
   "source": [
    "### 1. Strings, Lists, and Tuples\n",
    "\n",
    "`Strings` : \" \" or ' '  \n",
    "> Strings can be defined as sequential collections of characters. This means that the individual characters that make up a string are in a particular order from left to right.\n",
    "\n",
    "`Lists` : [ ]  \n",
    "> A list is a sequential collection of Python data values, where each value is identified by an index. The values that make up a list are called its elements. Lists are similar to strings, which are ordered collections of characters, except that the elements of a list can have any type and for any one list, the items can be of different types.\n",
    "\n",
    "\n",
    "`Tuples` : ( )  \n",
    "> A tuple, like a list, is a sequence of items of any type. The printed representation of a tuple is a comma-separated sequence of values, enclosed in parentheses. In other words, the representation is just like lists, except with parentheses () instead of square brackets [].  \n",
    "The key difference between lists and tuples is that a tuple is immutable, meaning that its contents can’t be changed after the tuple is created. We will examine the mutability of lists in detail in the chapter on Mutability.  \n",
    "To create a tuple with a single element (but you’re probably not likely to do that too often), we have to include the final comma, because without the final comma, Python treats the (5) below as an integer in parentheses."
   ]
  },
  {
   "cell_type": "markdown",
   "metadata": {},
   "source": [
    "### 2. Count and Index\n",
    "\n",
    "`Index`  \n",
    "> Index finds where an item is. In the case of index, it searches for the first time that a given string or item appears."
   ]
  },
  {
   "cell_type": "code",
   "execution_count": 1,
   "metadata": {},
   "outputs": [
    {
     "name": "stdout",
     "output_type": "stream",
     "text": [
      "5\n",
      "2\n"
     ]
    }
   ],
   "source": [
    "# count\n",
    "a = 'I have had an apple on my desk before!'\n",
    "print(a.count('e'))\n",
    "print(a.count('ha'))"
   ]
  },
  {
   "cell_type": "code",
   "execution_count": 3,
   "metadata": {},
   "outputs": [
    {
     "name": "stdout",
     "output_type": "stream",
     "text": [
      "0\n",
      "3\n",
      "0\n",
      "2\n"
     ]
    }
   ],
   "source": [
    "z = ['atoms', 4, 'neutron', 6, 'proton', 4, 'electron', 4, 'electron', 'atoms']\n",
    "print(z.count('4'))  # 0\n",
    "print(z.count(4))  # 3\n",
    "print(z.count('a'))  # 0\n",
    "print(z.count('electron'))  # 2"
   ]
  },
  {
   "cell_type": "code",
   "execution_count": 6,
   "metadata": {},
   "outputs": [
    {
     "name": "stdout",
     "output_type": "stream",
     "text": [
      "14\n",
      "9\n",
      "0\n",
      "3\n",
      "6\n"
     ]
    }
   ],
   "source": [
    "# index\n",
    "music = 'Pull out your music and dancing can begin'\n",
    "bio = ['Metatarsal', 'Metatarsal', 'Fibula', [], 'Tibia', 'Tibia', 43, 'Femur', 'Occipital', 'Metatarsal']\n",
    "\n",
    "print(music.index('m'))  # 14\n",
    "print(music.index('your'))  # 9\n",
    "\n",
    "print(bio.index('Metatarsal'))  # 0\n",
    "print(bio.index([]))  # 3\n",
    "print(bio.index(43))  # 6\n"
   ]
  },
  {
   "cell_type": "markdown",
   "metadata": {},
   "source": [
    "### 3. Splitting and Joining Strings"
   ]
  },
  {
   "cell_type": "code",
   "execution_count": 7,
   "metadata": {},
   "outputs": [
    {
     "name": "stdout",
     "output_type": "stream",
     "text": [
      "['The', 'rain', 'is', 'Spain..']\n"
     ]
    }
   ],
   "source": [
    "# split\n",
    "song = 'The rain is Spain..'\n",
    "wds = song.split()  # defaut : space\n",
    "print(wds)"
   ]
  },
  {
   "cell_type": "code",
   "execution_count": 8,
   "metadata": {},
   "outputs": [
    {
     "name": "stdout",
     "output_type": "stream",
     "text": [
      "['The r', 'n is Sp', 'n..']\n"
     ]
    }
   ],
   "source": [
    "song = 'The rain is Spain..'\n",
    "wds = song.split('ai') \n",
    "print(wds)"
   ]
  },
  {
   "cell_type": "code",
   "execution_count": 13,
   "metadata": {},
   "outputs": [
    {
     "name": "stdout",
     "output_type": "stream",
     "text": [
      "['red', 'blue', 'green']\n",
      "red;blue;green\n",
      "red***blue***green\n",
      "red blue green\n"
     ]
    }
   ],
   "source": [
    "# join\n",
    "wds = ['red', 'blue', 'green']\n",
    "glue = ';'\n",
    "s = glue.join(wds)\n",
    "print(wds)\n",
    "print(s)\n",
    "print('***'.join(wds))\n",
    "print(' '.join(wds))"
   ]
  },
  {
   "cell_type": "markdown",
   "metadata": {},
   "source": [
    "## Iteration"
   ]
  },
  {
   "cell_type": "markdown",
   "metadata": {},
   "source": [
    "### 1. The for Loop"
   ]
  },
  {
   "cell_type": "code",
   "execution_count": 14,
   "metadata": {},
   "outputs": [
    {
     "name": "stdout",
     "output_type": "stream",
     "text": [
      "G\n",
      "o\n",
      " \n",
      "S\n",
      "p\n",
      "o\n",
      "t\n",
      " \n",
      "G\n",
      "o\n"
     ]
    }
   ],
   "source": [
    "for achar in 'Go Spot Go':\n",
    "    print(achar)"
   ]
  },
  {
   "cell_type": "code",
   "execution_count": 15,
   "metadata": {},
   "outputs": [
    {
     "name": "stdout",
     "output_type": "stream",
     "text": [
      "apple\n",
      "orange\n",
      "banana\n",
      "cherry\n"
     ]
    }
   ],
   "source": [
    "fruits = ['apple', 'orange', 'banana', 'cherry']\n",
    "for afruit in fruits:\n",
    "    print(afruit)"
   ]
  },
  {
   "cell_type": "code",
   "execution_count": null,
   "metadata": {},
   "outputs": [],
   "source": [
    "import turtle \n",
    "wn = turtle.Screen()\n",
    "alex = turtle.Turtle()\n",
    "\n",
    "for aColor in ['yellow', 'red', 'purple', 'blue']:\n",
    "    alex.color(aColor)\n",
    "    alex.forward(50)\n",
    "    alex.left(90)\n",
    "    \n",
    "wn.exitonclick()"
   ]
  },
  {
   "cell_type": "markdown",
   "metadata": {},
   "source": [
    "### 2. The Accumulator Pattern"
   ]
  },
  {
   "cell_type": "code",
   "execution_count": 3,
   "metadata": {},
   "outputs": [
    {
     "name": "stdout",
     "output_type": "stream",
     "text": [
      "55\n"
     ]
    }
   ],
   "source": [
    "nums= [1, 2, 3, 4, 5, 6, 7, 8, 9, 10]\n",
    "accum = 0\n",
    "for w in nums:\n",
    "    accum = accum + w\n",
    "print(accum)"
   ]
  },
  {
   "cell_type": "code",
   "execution_count": 9,
   "metadata": {},
   "outputs": [
    {
     "name": "stdout",
     "output_type": "stream",
     "text": [
      "range(5): \n",
      "0\n",
      "1\n",
      "2\n",
      "3\n",
      "4\n",
      "rnage(0, 5):\n",
      "0\n",
      "1\n",
      "2\n",
      "3\n",
      "4\n",
      "[0, 1, 2, 3, 4]\n",
      "[0, 1, 2, 3, 4]\n",
      "range(0, 5)\n"
     ]
    }
   ],
   "source": [
    "print('range(5): ')\n",
    "for i in range(5):  # range(5) : 0~4\n",
    "    print(i)\n",
    "\n",
    "print('rnage(0, 5):')\n",
    "for i in range(0, 5):  # range(0, 5) : 0~4\n",
    "    print(i)\n",
    "    \n",
    "# Notice the casting of 'range' to the 'list'\n",
    "print(list(range(5)))\n",
    "print(list(range(0, 5)))\n",
    "\n",
    "# Note: 'range' function is already casted as 'list' in the textbook\n",
    "print(range(5))"
   ]
  },
  {
   "cell_type": "code",
   "execution_count": 11,
   "metadata": {},
   "outputs": [
    {
     "name": "stdout",
     "output_type": "stream",
     "text": [
      "55\n",
      "55\n"
     ]
    }
   ],
   "source": [
    "accum = 0\n",
    "for w in range(11):\n",
    "    accum = accum + w\n",
    "print(accum)\n",
    "\n",
    "sec_accum = 0\n",
    "for w in range(1, 11):\n",
    "    sec_accum =  sec_accum + w\n",
    "print(sec_accum)"
   ]
  },
  {
   "cell_type": "code",
   "execution_count": 12,
   "metadata": {},
   "outputs": [
    {
     "name": "stdout",
     "output_type": "stream",
     "text": [
      "[0, 1, 2, 3, 4, 5, 6, 7, 8, 9, 10, 11, 12, 13, 14, 15, 16, 17, 18, 19, 20, 21, 22, 23, 24, 25, 26, 27, 28, 29, 30, 31, 32, 33, 34, 35, 36, 37, 38, 39, 40, 41, 42, 43, 44, 45, 46, 47, 48, 49, 50, 51, 52]\n"
     ]
    }
   ],
   "source": [
    "numbers = []\n",
    "for i in range(53):\n",
    "    numbers.append(i)\n",
    "print(numbers)"
   ]
  },
  {
   "cell_type": "code",
   "execution_count": 13,
   "metadata": {},
   "outputs": [
    {
     "name": "stdout",
     "output_type": "stream",
     "text": [
      "90\n",
      "90\n"
     ]
    }
   ],
   "source": [
    "str1 = \"I like nonsense, it wakes up the brain cells. Fantasy is a necessary ingredient in living.\"\n",
    "numbs = 0\n",
    "for i in str1:\n",
    "    numbs = numbs + 1\n",
    "print(numbs)\n",
    "\n",
    "print(len(str1))"
   ]
  },
  {
   "cell_type": "code",
   "execution_count": 14,
   "metadata": {},
   "outputs": [
    {
     "name": "stdout",
     "output_type": "stream",
     "text": [
      "[0, 1, 2, 3, 4, 5, 6, 7, 8, 9, 10, 11, 12, 13, 14, 15, 16, 17, 18, 19, 20, 21, 22, 23, 24, 25, 26, 27, 28, 29, 30, 31, 32, 33, 34, 35, 36, 37, 38, 39, 40]\n",
      "820\n"
     ]
    }
   ],
   "source": [
    "numbers = []\n",
    "for i in range(41):\n",
    "    numbers.append(i)\n",
    "print(numbers)\n",
    "\n",
    "sum1 = 0\n",
    "for i in numbers:\n",
    "    sum1 = sum1 + i\n",
    "print(sum1) "
   ]
  },
  {
   "cell_type": "markdown",
   "metadata": {},
   "source": [
    "### 3. Traversal and the for Loop: By Index"
   ]
  },
  {
   "cell_type": "code",
   "execution_count": 15,
   "metadata": {},
   "outputs": [
    {
     "name": "stdout",
     "output_type": "stream",
     "text": [
      "0 apple\n",
      "1 pear\n",
      "2 apricot\n",
      "3 cherry\n",
      "4 peach\n"
     ]
    }
   ],
   "source": [
    "for counter, item in enumerate(['apple', 'pear', 'apricot', 'cherry', 'peach']):\n",
    "    print(counter, item)"
   ]
  },
  {
   "cell_type": "code",
   "execution_count": 16,
   "metadata": {},
   "outputs": [
    {
     "name": "stdout",
     "output_type": "stream",
     "text": [
      "0 apple\n",
      "1 pear\n",
      "2 apricot\n",
      "3 cherry\n",
      "4 peach\n"
     ]
    }
   ],
   "source": [
    "fruit = ['apple', 'pear', 'apricot', 'cherry', 'peach']\n",
    "for n in range(len(fruit)):\n",
    "    print(n, fruit[n])"
   ]
  },
  {
   "cell_type": "code",
   "execution_count": 17,
   "metadata": {},
   "outputs": [
    {
     "name": "stdout",
     "output_type": "stream",
     "text": [
      "p\n",
      "y\n",
      "p\n",
      "y\n",
      "p\n",
      "y\n"
     ]
    }
   ],
   "source": [
    "s = 'python'\n",
    "for idx in range(len(s)):\n",
    "    print(s[idx % 2])  # idx % 2 is 0 whenever idx is even"
   ]
  },
  {
   "cell_type": "markdown",
   "metadata": {},
   "source": [
    "## The way of the Programmer(2)"
   ]
  },
  {
   "cell_type": "markdown",
   "metadata": {},
   "source": [
    "`Naming Variables in For Loops`  \n",
    "> - Use singular nouns for the iterator variable (things like “song”, “book”, “post”, “letter”, “word”).  \n",
    "> - Use plural nouns for the sequence variable (things like “songs”, “books”, “posts”, “letters”, “words”).\n",
    "\n",
    "`Printing Intermediate Results`\n",
    "> This is especially helpful in the case of writing for loops or accumulating a value. If something is going wrong you can compare what you expect to happen to what is actually happening.\n",
    "\n",
    "`Keeping Track of Your Iterator Variable and Your Iterable`\n",
    "> - The `iterable` is the object that you will parsing through in a for loop. Generally, this object does not change while the for loop is being executed.\n",
    "> - The `iterator variable` is the variable which stores a portion of the iterable when the for loop is being executed. Each time the loop iterates, the value of the iterator variable will change to a different portion of the iterable.\n",
    "\n",
    "``\n",
    ">"
   ]
  },
  {
   "cell_type": "code",
   "execution_count": 21,
   "metadata": {},
   "outputs": [
    {
     "name": "stdout",
     "output_type": "stream",
     "text": [
      "***** Before the For Loop ******\n",
      "***** A New Loop Iteration ******\n",
      "Value of num: 0\n",
      "Value of tot: 0\n",
      "***** A New Loop Iteration ******\n",
      "Value of num: 1\n",
      "Value of tot: 1\n",
      "***** A New Loop Iteration ******\n",
      "Value of num: 2\n",
      "Value of tot: 3\n",
      "***** A New Loop Iteration ******\n",
      "Value of num: 3\n",
      "Value of tot: 6\n",
      "***** A New Loop Iteration ******\n",
      "Value of num: 4\n",
      "Value of tot: 10\n",
      "***** A New Loop Iteration ******\n",
      "Value of num: 5\n",
      "Value of tot: 15\n",
      "***** A New Loop Iteration ******\n",
      "Value of num: 6\n",
      "Value of tot: 21\n",
      "***** A New Loop Iteration ******\n",
      "Value of num: 7\n",
      "Value of tot: 28\n",
      "***** A New Loop Iteration ******\n",
      "Value of num: 8\n",
      "Value of tot: 36\n",
      "***** A New Loop Iteration ******\n",
      "Value of num: 9\n",
      "Value of tot: 45\n",
      "***** End of For Loop *****\n",
      "Final total: 45\n"
     ]
    }
   ],
   "source": [
    "# Printing Intermediate Results\n",
    "w = range(10)\n",
    "\n",
    "tot = 0\n",
    "print(\"***** Before the For Loop ******\")\n",
    "for num in w:\n",
    "    print(\"***** A New Loop Iteration ******\")\n",
    "    print(\"Value of num:\", num)\n",
    "    tot += num\n",
    "    print(\"Value of tot:\", tot)\n",
    "print(\"***** End of For Loop *****\")\n",
    "print(\"Final total:\", tot)\n"
   ]
  },
  {
   "cell_type": "code",
   "execution_count": 23,
   "metadata": {},
   "outputs": [
    {
     "name": "stdout",
     "output_type": "stream",
     "text": [
      "word\n",
      "phrase\n",
      "8\n",
      "beam\n",
      "<class 'list'>\n"
     ]
    }
   ],
   "source": [
    "# Keeping Track of Your Iterator Variable and Your Iterable\n",
    "n = ['word', 'phrase', 8, ('beam')]\n",
    "for item in n:\n",
    "    print(item)\n",
    "    \n",
    "type_of_your_iterable = type(n)\n",
    "print(type_of_your_iterable)"
   ]
  },
  {
   "cell_type": "code",
   "execution_count": 30,
   "metadata": {},
   "outputs": [
    {
     "name": "stdout",
     "output_type": "stream",
     "text": [
      "c\n",
      "o\n",
      "u\n",
      "c\n",
      "h\n",
      "<class 'str'>\n",
      "<class 'str'>\n"
     ]
    }
   ],
   "source": [
    "t = 'couch'\n",
    "for z in t:\n",
    "    print(z)\n",
    "    \n",
    "type_of_your_iterable = type(t)\n",
    "print(type_of_your_iterable)\n",
    "\n",
    "type_of_your_iterator_variable = type(z)\n",
    "print(type_of_your_iterator_variable)"
   ]
  },
  {
   "cell_type": "code",
   "execution_count": 26,
   "metadata": {},
   "outputs": [
    {
     "ename": "TypeError",
     "evalue": "'int' object is not iterable",
     "output_type": "error",
     "traceback": [
      "\u001b[0;31m---------------------------------------------------------------------------\u001b[0m",
      "\u001b[0;31mTypeError\u001b[0m                                 Traceback (most recent call last)",
      "\u001b[0;32m<ipython-input-26-cf7469c00253>\u001b[0m in \u001b[0;36m<module>\u001b[0;34m\u001b[0m\n\u001b[1;32m      1\u001b[0m \u001b[0my\u001b[0m \u001b[0;34m=\u001b[0m \u001b[0;36m18\u001b[0m\u001b[0;34m\u001b[0m\u001b[0;34m\u001b[0m\u001b[0m\n\u001b[0;32m----> 2\u001b[0;31m \u001b[0;32mfor\u001b[0m \u001b[0mz\u001b[0m \u001b[0;32min\u001b[0m \u001b[0my\u001b[0m\u001b[0;34m:\u001b[0m\u001b[0;34m\u001b[0m\u001b[0;34m\u001b[0m\u001b[0m\n\u001b[0m\u001b[1;32m      3\u001b[0m     \u001b[0mprint\u001b[0m\u001b[0;34m(\u001b[0m\u001b[0mz\u001b[0m\u001b[0;34m)\u001b[0m\u001b[0;34m\u001b[0m\u001b[0;34m\u001b[0m\u001b[0m\n",
      "\u001b[0;31mTypeError\u001b[0m: 'int' object is not iterable"
     ]
    }
   ],
   "source": [
    "y = 18\n",
    "for z in y:\n",
    "    print(z)\n",
    " \n",
    "# error, unable to iterate over the object."
   ]
  },
  {
   "cell_type": "code",
   "execution_count": 29,
   "metadata": {},
   "outputs": [
    {
     "name": "stdout",
     "output_type": "stream",
     "text": [
      "couch\n",
      "chair\n",
      "washer\n",
      "dryer\n",
      "table\n",
      "<class 'tuple'>\n",
      "<class 'str'>\n"
     ]
    }
   ],
   "source": [
    "t = ('couch', 'chair', 'washer', 'dryer', 'table')\n",
    "for z in t:\n",
    "    print(z)\n",
    "\n",
    "type_of_your_iterable = type(t)\n",
    "print(type_of_your_iterable)\n",
    "\n",
    "type_of_your_iterator_variable = type(z)\n",
    "print(type_of_your_iterator_variable)"
   ]
  },
  {
   "cell_type": "code",
   "execution_count": 40,
   "metadata": {},
   "outputs": [
    {
     "name": "stdout",
     "output_type": "stream",
     "text": [
      "9\n",
      "setter\n",
      "3\n",
      "wing spiker\n",
      "10\n",
      "middle blocker\n",
      "<class 'list'>\n",
      "<class 'str'>\n",
      "<class 'int'>\n",
      "<class 'str'>\n"
     ]
    }
   ],
   "source": [
    "t = [9, 'setter', 3, 'wing spiker', 10, 'middle blocker']\n",
    "for z in t:\n",
    "    print(z)\n",
    "    \n",
    "type_of_your_iterable = type(t)\n",
    "print(type_of_your_iterable)\n",
    "\n",
    "type_of_your_iterator_variable = type(z)\n",
    "print(type_of_your_iterator_variable)\n",
    "\n",
    "type_of_your_iterator_variable_in_the_first_iteration = type(t[0])\n",
    "print(type_of_your_iterator_variable_in_the_first_iteration)\n",
    "\n",
    "type_of_your_iterator_variable_in_the_second_iteration = type(t[1])\n",
    "print(type_of_your_iterator_variable_in_the_second_iteration)"
   ]
  },
  {
   "cell_type": "code",
   "execution_count": 42,
   "metadata": {},
   "outputs": [
    {
     "name": "stdout",
     "output_type": "stream",
     "text": [
      "c\n",
      "o\n",
      "l\n",
      "o\n",
      "r\n",
      "s\n",
      "<class 'str'>\n"
     ]
    }
   ],
   "source": [
    "red = 'colors'\n",
    "for blue in red:\n",
    "    print(blue)\n",
    "    \n",
    "type_of_your_iterator_variable_in_the_final_iteration = type(t[-1])\n",
    "print(type_of_your_iterator_variable_in_the_final_iteration)"
   ]
  },
  {
   "cell_type": "code",
   "execution_count": 63,
   "metadata": {},
   "outputs": [
    {
     "name": "stdout",
     "output_type": "stream",
     "text": [
      "['2', '5', '10', '20']\n",
      "37\n"
     ]
    }
   ],
   "source": [
    "addition_str = \"2+5+10+20\"\n",
    "\n",
    "add = addition_str.split('+')\n",
    "print(add)\n",
    "\n",
    "sum_val = 0\n",
    "for i in add:\n",
    "    sum_val = sum_val + int(i)\n",
    "print(sum_val)"
   ]
  },
  {
   "cell_type": "code",
   "execution_count": 65,
   "metadata": {},
   "outputs": [
    {
     "name": "stdout",
     "output_type": "stream",
     "text": [
      "['75.1', '77.7', '83.2', '82.5', '81.0', '79.5', '85.7']\n",
      "80.67142857142858\n"
     ]
    }
   ],
   "source": [
    "week_temps_f = \"75.1,77.7,83.2,82.5,81.0,79.5,85.7\"\n",
    "\n",
    "temps = week_temps_f.split(',')\n",
    "print(temps)\n",
    "\n",
    "sum_temp = 0\n",
    "for i in temps:\n",
    "    sum_temp = sum_temp + float(i)\n",
    "\n",
    "avg_temp = sum_temp / len(temps)\n",
    "print(avg_temp)"
   ]
  },
  {
   "cell_type": "code",
   "execution_count": 66,
   "metadata": {},
   "outputs": [
    {
     "name": "stdout",
     "output_type": "stream",
     "text": [
      "[3, 5, 5, 5, 6, 4, 3, 9, 4, 3]\n"
     ]
    }
   ],
   "source": [
    "original_str = \"The quick brown rhino jumped over the extremely lazy fox\"\n",
    "\n",
    "ori_str = original_str.split(' ')\n",
    "\n",
    "num_words_list = []\n",
    "for i in ori_str:\n",
    "    num_words_list.append(len(i))\n",
    "    \n",
    "print(num_words_list)"
   ]
  }
 ],
 "metadata": {
  "kernelspec": {
   "display_name": "Python 3",
   "language": "python",
   "name": "python3"
  },
  "language_info": {
   "codemirror_mode": {
    "name": "ipython",
    "version": 3
   },
   "file_extension": ".py",
   "mimetype": "text/x-python",
   "name": "python",
   "nbconvert_exporter": "python",
   "pygments_lexer": "ipython3",
   "version": "3.7.3"
  }
 },
 "nbformat": 4,
 "nbformat_minor": 2
}
