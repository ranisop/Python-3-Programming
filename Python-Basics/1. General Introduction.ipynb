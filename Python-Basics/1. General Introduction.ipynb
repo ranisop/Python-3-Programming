{
 "cells": [
  {
   "cell_type": "markdown",
   "metadata": {},
   "source": [
    "## Turtle Graphics"
   ]
  },
  {
   "cell_type": "markdown",
   "metadata": {},
   "source": [
    "`Importing Modules`\n",
    "> A module can be reused in different programs."
   ]
  },
  {
   "cell_type": "code",
   "execution_count": 3,
   "metadata": {},
   "outputs": [
    {
     "name": "stdout",
     "output_type": "stream",
     "text": [
      "0.769307557996334\n",
      "4\n"
     ]
    }
   ],
   "source": [
    "'''\n",
    "(1) 모듈을 불러서 사용하는 방법\n",
    "'''\n",
    "\n",
    "import random\n",
    "\n",
    "# random\n",
    "prob = random.random()  # random 모듈 내에 있는 random 함수\n",
    "print(prob)\n",
    "\n",
    "# randrange\n",
    "# return an int, one of 1,2,3,4,5,6\n",
    "diceThrow = random.randrange(1,7)  # random 모듈 내에 있는 randrange 함수\n",
    "print(diceThrow)"
   ]
  },
  {
   "cell_type": "code",
   "execution_count": 5,
   "metadata": {},
   "outputs": [
    {
     "name": "stdout",
     "output_type": "stream",
     "text": [
      "0.5948732438592133\n",
      "2\n"
     ]
    }
   ],
   "source": [
    "'''\n",
    "(2) 해당 모듈을 import하는 방법\n",
    "'''\n",
    "\n",
    "from random import random, randrange\n",
    "\n",
    "# random\n",
    "prob = random()  # 함수를 사용할 때 모듈을 호출할 필요가 없다.\n",
    "print(prob)\n",
    "\n",
    "# randrange\n",
    "diceThrow = randrange(1,7)  # 함수를 사용할 때 모듈을 호출할 필요가 없다.\n",
    "print(diceThrow)"
   ]
  },
  {
   "cell_type": "code",
   "execution_count": 7,
   "metadata": {},
   "outputs": [
    {
     "name": "stdout",
     "output_type": "stream",
     "text": [
      "3.015852785059505\n"
     ]
    }
   ],
   "source": [
    "import random\n",
    "\n",
    "prob = random.random()\n",
    "result = prob * 5\n",
    "print(result)"
   ]
  },
  {
   "cell_type": "markdown",
   "metadata": {},
   "source": [
    "## The Way of the Programmer"
   ]
  },
  {
   "cell_type": "markdown",
   "metadata": {},
   "source": [
    "### 1. Syntax, Runtime, and Semantic Errors\n",
    "\n",
    "`Syntax Errors` : 구문 오류(문법 오류)  \n",
    "> Attempting to divide by 0.\n",
    "\n",
    "`Runtime Errors` : 런타임 오류(인터프리터가 프로그램을 구문 분석할 때 발생, 일부 잘못된 작업)  \n",
    "> Forgetting a semi-colon at the end of a statement where one is required.\n",
    "\n",
    "`Semantic Errors` : 의미 오류(작업은 하지만 의도한 것을 만들어내지 못함)\n",
    "> Forgetting to divide by 100 when printing a percentage amount."
   ]
  },
  {
   "cell_type": "markdown",
   "metadata": {},
   "source": [
    "### 2. Know Your Error Messages\n",
    "\n",
    "`ParseError`\n",
    "> Parse errors happen when you make an error in the syntax of your program.(ex, if you don't use commas..)\n",
    "\n",
    "`TypeError`\n",
    "> TypeErrors occur when you you try to combine two objects that are not compatible.(ex, int + str)\n",
    "\n",
    "`NameError`\n",
    "> Name errors almost always mean that you have used a variable before it has a value.(ex, simply caused by typos)\n",
    "\n",
    "`ValueError`\n",
    "> Value errors occur when you pass a parameter to a function and the function is expecting a certain limitations on the values, and the value passed is not compatible. "
   ]
  },
  {
   "cell_type": "markdown",
   "metadata": {},
   "source": [
    "### 3. Common Errors\n",
    "\n",
    "`1. Forgetting a Parenthesis`  \n",
    "`2. Issues with Variable Names`  \n",
    "`3. Incorrect Arguments`"
   ]
  },
  {
   "cell_type": "code",
   "execution_count": null,
   "metadata": {},
   "outputs": [],
   "source": []
  }
 ],
 "metadata": {
  "kernelspec": {
   "display_name": "Python 3",
   "language": "python",
   "name": "python3"
  },
  "language_info": {
   "codemirror_mode": {
    "name": "ipython",
    "version": 3
   },
   "file_extension": ".py",
   "mimetype": "text/x-python",
   "name": "python",
   "nbconvert_exporter": "python",
   "pygments_lexer": "ipython3",
   "version": "3.7.3"
  }
 },
 "nbformat": 4,
 "nbformat_minor": 2
}
