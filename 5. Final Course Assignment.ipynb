{
 "cells": [
  {
   "cell_type": "markdown",
   "metadata": {},
   "source": [
    "## Python Basics - Final Course Assignment"
   ]
  },
  {
   "cell_type": "code",
   "execution_count": 1,
   "metadata": {},
   "outputs": [
    {
     "name": "stdout",
     "output_type": "stream",
     "text": [
      "10\n"
     ]
    }
   ],
   "source": [
    "'''\n",
    "1. \n",
    "Below are a set of scores that students have received in the past semester. \n",
    "Write code to determine how many are 90 or above and assign that result to the value a_scores.\n",
    "*result : 10\n",
    "'''\n",
    "\n",
    "scores = \"67 80 90 78 93 20 79 89 96 97 92 88 79 68 58 90 98 100 79 74 83 88 80 86 85 70 90 100\"\n",
    "i_scores = scores.split(\" \")\n",
    "a_scores = 0\n",
    "\n",
    "for i in i_scores:\n",
    "    i = int(i)\n",
    "    if i >= 90:\n",
    "        a_scores = a_scores + 1\n",
    "        \n",
    "print(a_scores)"
   ]
  },
  {
   "cell_type": "code",
   "execution_count": 21,
   "metadata": {},
   "outputs": [
    {
     "name": "stdout",
     "output_type": "stream",
     "text": [
      "OHSE\n"
     ]
    }
   ],
   "source": [
    "'''\n",
    "2. \n",
    "Write code that uses the string stored in org and creates an acronym which is assigned to the variable acro. \n",
    "Only the first letter of each word should be used, each letter in the acronym should be a capital letter, and there should be nothing to separate the letters of the acronym. \n",
    "Words that should not be included in the acronym are stored in the list stopwords. \n",
    "For example, if org was assigned the string “hello to world” then the resulting acronym should be “HW”.\n",
    "*result : OHSE\n",
    "'''\n",
    "\n",
    "stopwords = ['to', 'a', 'for', 'by', 'an', 'am', 'the', 'so', 'it', 'and', \"The\"]\n",
    "org = \"The organization for health, safety, and education\"\n",
    "\n",
    "acro = ''\n",
    "org_upper = org.upper().split(' ')\n",
    "stopwords = stopwords\n",
    "\n",
    "for i in org_upper:\n",
    "    if i.lower() not in stopwords:\n",
    "        acro = acro + i[0]\n",
    "\n",
    "print(acro)"
   ]
  },
  {
   "cell_type": "code",
   "execution_count": 133,
   "metadata": {},
   "outputs": [
    {
     "name": "stdout",
     "output_type": "stream",
     "text": [
      "['The', 'water', 'earth', 'and', 'air', 'are', 'vital']\n",
      "WA.EA.AI.AR.VI\n"
     ]
    }
   ],
   "source": [
    "'''\n",
    "3. ★★★\n",
    "Write code that uses the string stored in sent and creates an acronym which is assigned to the variable acro. \n",
    "The first two letters of each word should be used, each letter in the acronym should be a capital letter, and each element of the acronym should be separated by a “. ” (dot and space). \n",
    "Words that should not be included in the acronym are stored in the list stopwords. For example, if sent was assigned the string “height and ewok wonder” then the resulting acronym should be “HE. EW. WO”.\n",
    "*result : WA. EA. AI. AR. VI\n",
    "'''\n",
    "\n",
    "stopwords = ['to', 'a', 'for', 'by', 'an', 'am', 'the', 'so', 'it', 'and', 'The']\n",
    "sent = \"The water earth and air are vital\"\n",
    "sent_s = sent.split()\n",
    "print(sent_s)\n",
    "acro = []\n",
    "\n",
    "for i in sent_s:\n",
    "    if i not in stopwords:\n",
    "        acro.append(str.upper((i[:2])))\n",
    "    \n",
    "print('.'.join(acro))\n",
    "\n",
    "# # acro = '. '.join(word[:2].upper() for word in sent.split() if word not in stopwords)\n",
    "# print('.'.join(acro))\n",
    "\n",
    "# append-list\n",
    "# upper, join-str"
   ]
  },
  {
   "cell_type": "code",
   "execution_count": 57,
   "metadata": {},
   "outputs": [
    {
     "name": "stdout",
     "output_type": "stream",
     "text": [
      "was I tac a ro rac a ti saw\n"
     ]
    }
   ],
   "source": [
    "'''\n",
    "4. \n",
    "A palindrome is a phrase that, if reversed, would read the exact same. \n",
    "Write code that checks if p_phrase is a palindrome by reversing it and then checking if the reversed version is equal to the original. \n",
    "Assign the reversed version of p_phrase to the variable r_phrase so that we can check your work.\n",
    "*result : was I tac a ro rac a ti saw\n",
    "'''\n",
    "\n",
    "p_phrase = \"was it a car or a cat I saw\"\n",
    "r_phrase = p_phrase[::-1]\n",
    "print(r_phrase)\n",
    "\n",
    "# p_phrase = 'abcdefghijklmn'\n",
    "# r_phrase = p_phrase[8::-2]  # [start:end:step]"
   ]
  },
  {
   "cell_type": "code",
   "execution_count": 137,
   "metadata": {},
   "outputs": [
    {
     "name": "stdout",
     "output_type": "stream",
     "text": [
      "The store has 12 shoes, each for 29.99 USD.\n",
      "The store has 20 shirts, each for 9.99 USD.\n",
      "The store has 25 sweatpants, each for 15.00 USD.\n",
      "The store has 13 scarves, each for 7.75 USD.\n"
     ]
    }
   ],
   "source": [
    "'''\n",
    "5. \n",
    "Provided is a list of data about a store’s inventory where each item in the list represents the name of an item, how much is in stock, and how much it costs. \n",
    "Print out each item in the list with the same formatting, using the .format method (not string concatenation). \n",
    "For example, the first print statment should read The store has 12 shoes, each for 29.99 USD.\n",
    "*result :\n",
    "The store has 12 shoes, each for 29.99 USD.\n",
    "The store has 20 shirts, each for 9.99 USD.\n",
    "The store has 25 sweatpants, each for 15.00 USD.\n",
    "The store has 13 scarves, each for 7.75 USD.\n",
    "'''\n",
    "\n",
    "inventory = [\"shoes, 12, 29.99\", \"shirts, 20, 9.99\", \"sweatpants, 25, 15.00\", \"scarves, 13, 7.75\"]\n",
    "\n",
    "for i in inventory:\n",
    "    name, number, cost = i.split(', ')\n",
    "    print('The store has {} {}, each for {} USD.'.format(number, name, cost))"
   ]
  },
  {
   "cell_type": "code",
   "execution_count": null,
   "metadata": {},
   "outputs": [],
   "source": []
  }
 ],
 "metadata": {
  "kernelspec": {
   "display_name": "Python 3",
   "language": "python",
   "name": "python3"
  },
  "language_info": {
   "codemirror_mode": {
    "name": "ipython",
    "version": 3
   },
   "file_extension": ".py",
   "mimetype": "text/x-python",
   "name": "python",
   "nbconvert_exporter": "python",
   "pygments_lexer": "ipython3",
   "version": "3.7.3"
  }
 },
 "nbformat": 4,
 "nbformat_minor": 2
}
