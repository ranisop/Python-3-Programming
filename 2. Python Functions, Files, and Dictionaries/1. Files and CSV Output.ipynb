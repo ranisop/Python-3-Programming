{
 "cells": [
  {
   "cell_type": "markdown",
   "metadata": {},
   "source": [
    "## Files"
   ]
  },
  {
   "cell_type": "markdown",
   "metadata": {},
   "source": [
    "### 1. Introduction: Working with Data Files¶\n",
    "`* Method`  \n",
    "\n",
    "Name | Use | Explanation  \n",
    ":-----: | :-----: | :-----  \n",
    "open | open(filename, 'r') | Open a file called filename and use it for reading. This will return a reference to a file object.  \n",
    "open | open(filename, 'w') | Open a file called filename and use it for writing. This will also return a reference to a file object.\n",
    "close | filevariable.close() | File use is complete."
   ]
  },
  {
   "cell_type": "markdown",
   "metadata": {},
   "source": [
    "### 2. Reading a File"
   ]
  },
  {
   "cell_type": "code",
   "execution_count": 10,
   "metadata": {},
   "outputs": [
    {
     "name": "stdout",
     "output_type": "stream",
     "text": [
      "60\n",
      "Name,Sex,Age,Team,Event,Medal\n",
      "A Dijiang,M,24,China,Basketball,NA\n",
      "A Lamusi,M,23,China,Judo,NA\n",
      "Gunnar Nielsen Aaby,M,24,Denmark,Football,NA\n"
     ]
    }
   ],
   "source": [
    "fileref = open('olympics.txt', 'r')\n",
    "\n",
    "# # 1. 글자수로 읽기\n",
    "# contents = fileref.read()\n",
    "# print(len(contents))  # 3179\n",
    "# print(contents[:100])\n",
    "\n",
    "# # 2. 문장수로 읽기\n",
    "# # 2-1) \\n로 연결되어 다 붙어있음\n",
    "# lines = fileref.readlines()\n",
    "# print(lines[:4])\n",
    "\n",
    "# # 2-2) 한 줄씩 간격이 있고, 문장 끝에 NA가 붙어있음 \n",
    "# lines = fileref.readlines()\n",
    "# for lin in lines[:4]:\n",
    "#     print(lin)\n",
    "\n",
    "# 2-3) strip() 함수를 사용해서 문장 끝의 공백 제거\n",
    "lines = fileref.readlines()\n",
    "print(len(lines))  # 60\n",
    "for lin in lines[:4]:\n",
    "    print(lin.strip())\n",
    "\n",
    "fileref.close()"
   ]
  },
  {
   "cell_type": "markdown",
   "metadata": {},
   "source": [
    "### 3. Alternative File Reading Methods\n",
    "`read()`  \n",
    "> The read() method returns the entire contents of the file as a single string (or just some characters if you provide a number as an input parameter.\n",
    "\n",
    "`readlines()`\n",
    "> The readlines method returns the entire contents of the entire file as a list of strings, where each item in the list is one line of the file.\n",
    "\n",
    "`readline()`\n",
    "> The readline method reads one line from the file and returns it as a string.\n",
    "\n",
    "`* Method`  \n",
    "\n",
    "Name | Use | Explanation  \n",
    ":-----: | :-----: | :-----  \n",
    "write | filevar.write(astring) | Add astring to the end of the file. filevar must refer to a file that has been opened for writing.\n",
    "read(n) | filevar.read() | Reads and returns a string of n characters, or the entire file as a single string if n is not provided.\n",
    "readline(n) | filevar.readline() | Returns the next line of the file with all text up to and including the newline character. If n is provided as a parameter than only n characters will be returned if the line is longer than n.\n",
    "readlines(n) | filevar.readlines() | Returns a list of strings, each representing a single line of the file. If n is not provided then all lines of the file are returned. If n is provided then n characters are read but n is rounded up so that an entire line is returned."
   ]
  },
  {
   "cell_type": "code",
   "execution_count": 12,
   "metadata": {},
   "outputs": [
    {
     "name": "stdout",
     "output_type": "stream",
     "text": [
      "536\n"
     ]
    }
   ],
   "source": [
    "fileref = open('school_prompt2.txt', 'r')\n",
    "contents = fileref.read()\n",
    "num_char = len(contents)\n",
    "print(num_char)\n",
    "fileref.close()"
   ]
  },
  {
   "cell_type": "code",
   "execution_count": 14,
   "metadata": {},
   "outputs": [
    {
     "name": "stdout",
     "output_type": "stream",
     "text": [
      "11\n"
     ]
    }
   ],
   "source": [
    "fileref = open('travel_plans2.txt', 'r')\n",
    "lines = fileref.readlines()\n",
    "num_lines = len(lines)\n",
    "print(num_lines)\n",
    "fileref.close()"
   ]
  },
  {
   "cell_type": "code",
   "execution_count": 15,
   "metadata": {},
   "outputs": [
    {
     "name": "stdout",
     "output_type": "stream",
     "text": [
      "Sad upset blue down melancholy somber bi\n"
     ]
    }
   ],
   "source": [
    "fileref = open('emotion_words2.txt', 'r')\n",
    "char = fileref.read()\n",
    "first_forty = char[:40]\n",
    "print(first_forty)\n",
    "fileref.close()"
   ]
  },
  {
   "cell_type": "markdown",
   "metadata": {},
   "source": [
    "### 4. Iterating over lines in a file"
   ]
  },
  {
   "cell_type": "code",
   "execution_count": 11,
   "metadata": {},
   "outputs": [
    {
     "name": "stdout",
     "output_type": "stream",
     "text": [
      "Name is from Team and is on the roster for Event\n",
      "A Dijiang is from China and is on the roster for Basketball\n",
      "A Lamusi is from China and is on the roster for Judo\n",
      "Gunnar Nielsen Aaby is from Denmark and is on the roster for Football\n",
      "Edgar Lindenau Aabye is from Denmark/Sweden and is on the roster for Tug-Of-War\n",
      "Christine Jacoba Aaftink is from Netherlands and is on the roster for Speed Skating\n",
      "Christine Jacoba Aaftink is from Netherlands and is on the roster for Speed Skating\n",
      "Christine Jacoba Aaftink is from Netherlands and is on the roster for Speed Skating\n",
      "Christine Jacoba Aaftink is from Netherlands and is on the roster for Speed Skating\n",
      "Christine Jacoba Aaftink is from Netherlands and is on the roster for Speed Skating\n",
      "Christine Jacoba Aaftink is from Netherlands and is on the roster for Speed Skating\n",
      "Per Knut Aaland is from United States and is on the roster for Cross Country Skiing\n",
      "Per Knut Aaland is from United States and is on the roster for Cross Country Skiing\n",
      "Per Knut Aaland is from United States and is on the roster for Cross Country Skiing\n",
      "Per Knut Aaland is from United States and is on the roster for Cross Country Skiing\n",
      "Per Knut Aaland is from United States and is on the roster for Cross Country Skiing\n",
      "Per Knut Aaland is from United States and is on the roster for Cross Country Skiing\n",
      "Per Knut Aaland is from United States and is on the roster for Cross Country Skiing\n",
      "Per Knut Aaland is from United States and is on the roster for Cross Country Skiing\n",
      "John Aalberg is from United States and is on the roster for Cross Country Skiing\n",
      "John Aalberg is from United States and is on the roster for Cross Country Skiing\n",
      "John Aalberg is from United States and is on the roster for Cross Country Skiing\n",
      "John Aalberg is from United States and is on the roster for Cross Country Skiing\n",
      "John Aalberg is from United States and is on the roster for Cross Country Skiing\n",
      "John Aalberg is from United States and is on the roster for Cross Country Skiing\n",
      "John Aalberg is from United States and is on the roster for Cross Country Skiing\n",
      "John Aalberg is from United States and is on the roster for Cross Country Skiing\n",
      "\"Cornelia \"\"Cor\"\" Aalten (-Strannood)\" is from Netherlands and is on the roster for Athletics\n",
      "\"Cornelia \"\"Cor\"\" Aalten (-Strannood)\" is from Netherlands and is on the roster for Athletics\n",
      "Antti Sami Aalto is from Finland and is on the roster for Ice Hockey\n",
      "\"Einar Ferdinand \"\"Einari\"\" Aalto\" is from Finland and is on the roster for Swimming\n",
      "Jorma Ilmari Aalto is from Finland and is on the roster for Cross Country Skiing\n",
      "Jyri Tapani Aalto is from Finland and is on the roster for Badminton\n",
      "Minna Maarit Aalto is from Finland and is on the roster for Sailing\n",
      "Minna Maarit Aalto is from Finland and is on the roster for Sailing\n",
      "Pirjo Hannele Aalto (Mattila-) is from Finland and is on the roster for Biathlon\n",
      "Arvo Ossian Aaltonen is from Finland and is on the roster for Swimming\n",
      "Arvo Ossian Aaltonen is from Finland and is on the roster for Swimming\n",
      "Arvo Ossian Aaltonen is from Finland and is on the roster for Swimming\n",
      "Arvo Ossian Aaltonen is from Finland and is on the roster for Swimming\n",
      "Arvo Ossian Aaltonen is from Finland and is on the roster for Swimming\n",
      "Juhamatti Tapio Aaltonen is from Finland and is on the roster for Ice Hockey\n",
      "Paavo Johannes Aaltonen is from Finland and is on the roster for Gymnastics\n",
      "Paavo Johannes Aaltonen is from Finland and is on the roster for Gymnastics\n",
      "Paavo Johannes Aaltonen is from Finland and is on the roster for Gymnastics\n",
      "Paavo Johannes Aaltonen is from Finland and is on the roster for Gymnastics\n",
      "Paavo Johannes Aaltonen is from Finland and is on the roster for Gymnastics\n",
      "Paavo Johannes Aaltonen is from Finland and is on the roster for Gymnastics\n",
      "Paavo Johannes Aaltonen is from Finland and is on the roster for Gymnastics\n",
      "Paavo Johannes Aaltonen is from Finland and is on the roster for Gymnastics\n",
      "Paavo Johannes Aaltonen is from Finland and is on the roster for Gymnastics\n",
      "Paavo Johannes Aaltonen is from Finland and is on the roster for Gymnastics\n",
      "Paavo Johannes Aaltonen is from Finland and is on the roster for Gymnastics\n",
      "Paavo Johannes Aaltonen is from Finland and is on the roster for Gymnastics\n",
      "Paavo Johannes Aaltonen is from Finland and is on the roster for Gymnastics\n",
      "Paavo Johannes Aaltonen is from Finland and is on the roster for Gymnastics\n",
      "Paavo Johannes Aaltonen is from Finland and is on the roster for Gymnastics\n",
      "Paavo Johannes Aaltonen is from Finland and is on the roster for Gymnastics\n",
      "Timo Antero Aaltonen is from Finland and is on the roster for Athletics\n",
      "Win Valdemar Aaltonen is from Finland and is on the roster for Art Competitions\n"
     ]
    }
   ],
   "source": [
    "olympicsfile = open('olympics.txt', 'r')\n",
    "\n",
    "for aline in olympicsfile.readlines():\n",
    "    values = aline.split(',')\n",
    "    #print(values)\n",
    "    print(values[0], 'is from', values[3], 'and is on the roster for', values[4])\n",
    "\n",
    "olympicsfile.close()"
   ]
  },
  {
   "cell_type": "code",
   "execution_count": 16,
   "metadata": {},
   "outputs": [
    {
     "name": "stdout",
     "output_type": "stream",
     "text": [
      "Name is from Team and is on the roster for Event\n",
      "A Dijiang is from China and is on the roster for Basketball\n",
      "A Lamusi is from China and is on the roster for Judo\n",
      "Gunnar Nielsen Aaby is from Denmark and is on the roster for Football\n",
      "Edgar Lindenau Aabye is from Denmark/Sweden and is on the roster for Tug-Of-War\n",
      "Christine Jacoba Aaftink is from Netherlands and is on the roster for Speed Skating\n",
      "Christine Jacoba Aaftink is from Netherlands and is on the roster for Speed Skating\n",
      "Christine Jacoba Aaftink is from Netherlands and is on the roster for Speed Skating\n",
      "Christine Jacoba Aaftink is from Netherlands and is on the roster for Speed Skating\n",
      "Christine Jacoba Aaftink is from Netherlands and is on the roster for Speed Skating\n",
      "Christine Jacoba Aaftink is from Netherlands and is on the roster for Speed Skating\n",
      "Per Knut Aaland is from United States and is on the roster for Cross Country Skiing\n",
      "Per Knut Aaland is from United States and is on the roster for Cross Country Skiing\n",
      "Per Knut Aaland is from United States and is on the roster for Cross Country Skiing\n",
      "Per Knut Aaland is from United States and is on the roster for Cross Country Skiing\n",
      "Per Knut Aaland is from United States and is on the roster for Cross Country Skiing\n",
      "Per Knut Aaland is from United States and is on the roster for Cross Country Skiing\n",
      "Per Knut Aaland is from United States and is on the roster for Cross Country Skiing\n",
      "Per Knut Aaland is from United States and is on the roster for Cross Country Skiing\n",
      "John Aalberg is from United States and is on the roster for Cross Country Skiing\n",
      "John Aalberg is from United States and is on the roster for Cross Country Skiing\n",
      "John Aalberg is from United States and is on the roster for Cross Country Skiing\n",
      "John Aalberg is from United States and is on the roster for Cross Country Skiing\n",
      "John Aalberg is from United States and is on the roster for Cross Country Skiing\n",
      "John Aalberg is from United States and is on the roster for Cross Country Skiing\n",
      "John Aalberg is from United States and is on the roster for Cross Country Skiing\n",
      "John Aalberg is from United States and is on the roster for Cross Country Skiing\n",
      "\"Cornelia \"\"Cor\"\" Aalten (-Strannood)\" is from Netherlands and is on the roster for Athletics\n",
      "\"Cornelia \"\"Cor\"\" Aalten (-Strannood)\" is from Netherlands and is on the roster for Athletics\n",
      "Antti Sami Aalto is from Finland and is on the roster for Ice Hockey\n",
      "\"Einar Ferdinand \"\"Einari\"\" Aalto\" is from Finland and is on the roster for Swimming\n",
      "Jorma Ilmari Aalto is from Finland and is on the roster for Cross Country Skiing\n",
      "Jyri Tapani Aalto is from Finland and is on the roster for Badminton\n",
      "Minna Maarit Aalto is from Finland and is on the roster for Sailing\n",
      "Minna Maarit Aalto is from Finland and is on the roster for Sailing\n",
      "Pirjo Hannele Aalto (Mattila-) is from Finland and is on the roster for Biathlon\n",
      "Arvo Ossian Aaltonen is from Finland and is on the roster for Swimming\n",
      "Arvo Ossian Aaltonen is from Finland and is on the roster for Swimming\n",
      "Arvo Ossian Aaltonen is from Finland and is on the roster for Swimming\n",
      "Arvo Ossian Aaltonen is from Finland and is on the roster for Swimming\n",
      "Arvo Ossian Aaltonen is from Finland and is on the roster for Swimming\n",
      "Juhamatti Tapio Aaltonen is from Finland and is on the roster for Ice Hockey\n",
      "Paavo Johannes Aaltonen is from Finland and is on the roster for Gymnastics\n",
      "Paavo Johannes Aaltonen is from Finland and is on the roster for Gymnastics\n",
      "Paavo Johannes Aaltonen is from Finland and is on the roster for Gymnastics\n",
      "Paavo Johannes Aaltonen is from Finland and is on the roster for Gymnastics\n",
      "Paavo Johannes Aaltonen is from Finland and is on the roster for Gymnastics\n",
      "Paavo Johannes Aaltonen is from Finland and is on the roster for Gymnastics\n",
      "Paavo Johannes Aaltonen is from Finland and is on the roster for Gymnastics\n",
      "Paavo Johannes Aaltonen is from Finland and is on the roster for Gymnastics\n",
      "Paavo Johannes Aaltonen is from Finland and is on the roster for Gymnastics\n",
      "Paavo Johannes Aaltonen is from Finland and is on the roster for Gymnastics\n",
      "Paavo Johannes Aaltonen is from Finland and is on the roster for Gymnastics\n",
      "Paavo Johannes Aaltonen is from Finland and is on the roster for Gymnastics\n",
      "Paavo Johannes Aaltonen is from Finland and is on the roster for Gymnastics\n",
      "Paavo Johannes Aaltonen is from Finland and is on the roster for Gymnastics\n",
      "Paavo Johannes Aaltonen is from Finland and is on the roster for Gymnastics\n",
      "Paavo Johannes Aaltonen is from Finland and is on the roster for Gymnastics\n",
      "Timo Antero Aaltonen is from Finland and is on the roster for Athletics\n",
      "Win Valdemar Aaltonen is from Finland and is on the roster for Art Competitions\n"
     ]
    }
   ],
   "source": [
    "olympicsfile = open('olympics.txt', 'r')\n",
    "\n",
    "for aline in olympicsfile:\n",
    "    values = aline.split(',')\n",
    "    print(values[0], 'is from', values[3], 'and is on the roster for', values[4])\n",
    "    #print(values)\n",
    "olympicsfile.close()"
   ]
  },
  {
   "cell_type": "code",
   "execution_count": 18,
   "metadata": {},
   "outputs": [
    {
     "name": "stdout",
     "output_type": "stream",
     "text": [
      "7\n"
     ]
    }
   ],
   "source": [
    "emotionfile = open('emotion_words2.txt', 'r')\n",
    "\n",
    "num_lines = 0\n",
    "for line in emotionfile:\n",
    "    num_lines += 1\n",
    "print(num_lines)"
   ]
  },
  {
   "cell_type": "markdown",
   "metadata": {},
   "source": [
    "### 5. Writing Text Files"
   ]
  },
  {
   "cell_type": "code",
   "execution_count": 1,
   "metadata": {},
   "outputs": [
    {
     "name": "stdout",
     "output_type": "stream",
     "text": [
      "1\n",
      "4\n",
      "9\n",
      "16\n",
      "25\n",
      "36\n",
      "49\n",
      "64\n",
      "81\n",
      "100\n",
      "121\n",
      "144\n"
     ]
    }
   ],
   "source": [
    "for number in range(1, 13):\n",
    "    square = number * number\n",
    "    print(square)"
   ]
  },
  {
   "cell_type": "code",
   "execution_count": 7,
   "metadata": {},
   "outputs": [
    {
     "name": "stdout",
     "output_type": "stream",
     "text": [
      "1\n",
      "4\n",
      "9\n",
      "16\n",
      "2\n"
     ]
    }
   ],
   "source": [
    "filename = 'squared_numbers.txt'\n",
    "outfile = open(filename, 'w')\n",
    "\n",
    "for number in range(1, 13):\n",
    "    square = number * number\n",
    "    outfile.write(str(square) + '\\n')\n",
    "    #outfile.write('\\n')\n",
    "    \n",
    "outfile.close()\n",
    "\n",
    "infile = open(filename, 'r')\n",
    "print(infile.read()[:10])"
   ]
  },
  {
   "cell_type": "markdown",
   "metadata": {},
   "source": [
    "### 6. Using `with` for Files\n",
    "\n",
    "`with` < create some object that understands context > `as` <some name>:  \n",
    "        do some stuff `with` the object"
   ]
  },
  {
   "cell_type": "code",
   "execution_count": 8,
   "metadata": {},
   "outputs": [
    {
     "name": "stdout",
     "output_type": "stream",
     "text": [
      "1 2 3\n",
      "\n",
      "4 5 6\n"
     ]
    }
   ],
   "source": [
    "fname = 'mydata.txt'\n",
    "with open(fname, 'r') as md:\n",
    "    for line in md:\n",
    "        print(line)"
   ]
  },
  {
   "cell_type": "code",
   "execution_count": 9,
   "metadata": {},
   "outputs": [
    {
     "name": "stdout",
     "output_type": "stream",
     "text": [
      "1 2 3\n",
      "\n",
      "4 5 6\n"
     ]
    }
   ],
   "source": [
    "md = open('mydata.txt', 'r')\n",
    "for line in md:\n",
    "    print(line)\n",
    "md.close()"
   ]
  },
  {
   "cell_type": "code",
   "execution_count": 13,
   "metadata": {},
   "outputs": [
    {
     "name": "stdout",
     "output_type": "stream",
     "text": [
      "['1 2 3\\n', '4 5 6']\n"
     ]
    }
   ],
   "source": [
    "fname = 'mydata.txt'\n",
    "with open(fname, 'r') as md:\n",
    "    print(md.read())"
   ]
  },
  {
   "cell_type": "code",
   "execution_count": 16,
   "metadata": {},
   "outputs": [
    {
     "name": "stdout",
     "output_type": "stream",
     "text": [
      "['1 2 3\\n', '4 5 6']\n"
     ]
    }
   ],
   "source": [
    "fname = 'mydata.txt'\n",
    "with open(fname, 'r') as md:\n",
    "    print(md.readlines())"
   ]
  },
  {
   "cell_type": "code",
   "execution_count": 19,
   "metadata": {},
   "outputs": [
    {
     "name": "stdout",
     "output_type": "stream",
     "text": [
      "0\n",
      "1\n",
      "2\n",
      "3\n",
      "4\n",
      "5\n",
      "6\n",
      "7\n",
      "8\n",
      "9\n",
      "\n"
     ]
    }
   ],
   "source": [
    "fname = 'mydata2.txt'\n",
    "with open(fname, 'w') as md:\n",
    "    for num in range(10):\n",
    "        md.write(str(num))\n",
    "        md.write('\\n')\n",
    "        \n",
    "infile = open(fname, 'r')\n",
    "print(infile.read())"
   ]
  },
  {
   "cell_type": "markdown",
   "metadata": {},
   "source": [
    "### 7. Recipe for Reading and Processing a File\n",
    "\n",
    "1. Open the file using with and open.\n",
    "2. Use .readlines() to get a list of the lines of text in the file.\n",
    "3. Use a for loop to iterate through the strings in the list, each being one line from the file. On each iteration, process that line of text\n",
    "4. When you are done extracting data from the file, continue writing your code outside of the indentation. Using with will automatically close the file once the program exits the with block."
   ]
  },
  {
   "cell_type": "code",
   "execution_count": null,
   "metadata": {},
   "outputs": [],
   "source": [
    "fname = \"yourfile.txt\"\n",
    "with open(fname, 'r') as fileref:         # step 1\n",
    "    lines = fileref.readlines()           # step 2\n",
    "    for lin in lines:                     # step 3\n",
    "        #some code that references the variable lin\n",
    "#some other code not relying on fileref   # step 4"
   ]
  },
  {
   "cell_type": "code",
   "execution_count": null,
   "metadata": {},
   "outputs": [],
   "source": [
    "fname = \"yourfile.txt\"\n",
    "with open(fname, 'r') as fileref:         # step 1\n",
    "    for lin in lines:                     # step 2\n",
    "        ## some code that reference the variable lin\n",
    "#some other code not relying on fileref   # step 3"
   ]
  }
 ],
 "metadata": {
  "kernelspec": {
   "display_name": "Python 3",
   "language": "python",
   "name": "python3"
  },
  "language_info": {
   "codemirror_mode": {
    "name": "ipython",
    "version": 3
   },
   "file_extension": ".py",
   "mimetype": "text/x-python",
   "name": "python",
   "nbconvert_exporter": "python",
   "pygments_lexer": "ipython3",
   "version": "3.7.3"
  }
 },
 "nbformat": 4,
 "nbformat_minor": 2
}
