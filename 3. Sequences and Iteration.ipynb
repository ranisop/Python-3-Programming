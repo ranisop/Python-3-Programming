{
 "cells": [
  {
   "cell_type": "markdown",
   "metadata": {},
   "source": [
    "## Boolean Expressions"
   ]
  },
  {
   "cell_type": "markdown",
   "metadata": {},
   "source": [
    "### 1. Logical Operators\n",
    "\n",
    "Literal | Comparision | Logical Operators\n",
    ":-----: | :-----: | :-----:\n",
    "True | L == R | L and R\n",
    "False | L != R | L or R\n",
    " | L < R | not B\n",
    " | L <= R |\n",
    " | L > R |\n",
    " | L >= R |\n",
    "\n",
    "`and` | L True | L False\n",
    ":-----: | :-----: | :-----:\n",
    "R True | `True` | False\n",
    "R False | False | False\n",
    "\n",
    "`or` | L True | L False\n",
    ":-----: | :-----: | :-----:\n",
    "R True | `True` | `True`\n",
    "R False | `True` | False\n",
    "\n",
    "`not` | B True | B False\n",
    ":-----: | :-----: | :-----:\n",
    " - | False | `True`"
   ]
  },
  {
   "cell_type": "markdown",
   "metadata": {},
   "source": [
    "### 2. The in and not in Operators"
   ]
  },
  {
   "cell_type": "code",
   "execution_count": 5,
   "metadata": {},
   "outputs": [
    {
     "name": "stdout",
     "output_type": "stream",
     "text": [
      "True\n",
      "False\n",
      "True\n",
      "True\n",
      "False\n",
      "True\n",
      "True\n"
     ]
    }
   ],
   "source": [
    "print('a' in 'apple')\n",
    "print('i' in 'apple')\n",
    "print('apple' in 'apple')\n",
    "print('ap' in 'apple')\n",
    "print('pa' in 'apple')\n",
    "print('' in 'a')\n",
    "print('' in 'apple')"
   ]
  },
  {
   "cell_type": "code",
   "execution_count": 3,
   "metadata": {},
   "outputs": [
    {
     "name": "stdout",
     "output_type": "stream",
     "text": [
      "True\n"
     ]
    }
   ],
   "source": [
    "print('x' not in 'apple')"
   ]
  },
  {
   "cell_type": "code",
   "execution_count": 4,
   "metadata": {},
   "outputs": [
    {
     "name": "stdout",
     "output_type": "stream",
     "text": [
      "False\n"
     ]
    }
   ],
   "source": [
    "print('a' in ['apple', 'absolutely', 'application', 'nope'])"
   ]
  },
  {
   "cell_type": "markdown",
   "metadata": {},
   "source": [
    "### 3. Precedence of Operators\n",
    "`🌼괄호() - 지수 - 곱셈/나눗셈 - 덧셈/뺄셈 - 비교 - not - and - or`\n",
    "\n",
    "Level | Category | Operators\n",
    ":-----: | :-----: | :-----:\n",
    "7(high) | exponent | **\n",
    "6 | multiplication | *,/,//,%\n",
    "5 | addition | +,-\n",
    "4 | relational | ==,!=,<=,>=,>,<\n",
    "3 | logical | not\n",
    "2 | logical | and\n",
    "1(low) | logical | or \n",
    "\n"
   ]
  },
  {
   "cell_type": "markdown",
   "metadata": {},
   "source": [
    "## Conditional Execution"
   ]
  },
  {
   "cell_type": "markdown",
   "metadata": {},
   "source": [
    "`Nested conditionals`\n",
    "> One conditional can also be nested within another."
   ]
  },
  {
   "cell_type": "code",
   "execution_count": 1,
   "metadata": {},
   "outputs": [
    {
     "name": "stdout",
     "output_type": "stream",
     "text": [
      "x and y must be equal\n"
     ]
    }
   ],
   "source": [
    "x = 10\n",
    "y = 10\n",
    "\n",
    "if x < y:\n",
    "    print(\"x is less than y\")\n",
    "else:\n",
    "    if x > y:\n",
    "        print(\"x is greater than y\")\n",
    "    else:\n",
    "        print(\"x and y must be equal\")"
   ]
  },
  {
   "cell_type": "markdown",
   "metadata": {},
   "source": [
    "`Chained conditionals`\n",
    "> Python provides an alternative way to write nested selection such as the one shown in the previous section. This is sometimes referred to as a chained conditional."
   ]
  },
  {
   "cell_type": "code",
   "execution_count": 3,
   "metadata": {},
   "outputs": [
    {
     "name": "stdout",
     "output_type": "stream",
     "text": [
      "x and y must be equal\n"
     ]
    }
   ],
   "source": [
    "x = 10\n",
    "y = 10\n",
    "\n",
    "if x < y:\n",
    "    print(\"x is less than y\")\n",
    "elif x > y:\n",
    "    print(\"x is greater than y\")\n",
    "else:\n",
    "    print(\"x and y must be equal\")"
   ]
  },
  {
   "cell_type": "code",
   "execution_count": 6,
   "metadata": {},
   "outputs": [
    {
     "name": "stdout",
     "output_type": "stream",
     "text": [
      "['Bring an umbrella.', 'Nice day!', 'Bring an umbrella.', 'Watch out for clouds!', 'Nice day!', 'Nice day!', 'Watch out for clouds!', 'Good for the flowers?']\n"
     ]
    }
   ],
   "source": [
    "percent_rain = [94.3, 45, 100, 78, 16, 5.3, 79, 86]\n",
    "\n",
    "resps = []\n",
    "\n",
    "for i in percent_rain:\n",
    "    \n",
    "    if 90 < i:\n",
    "        resps.append('Bring an umbrella.')\n",
    "    elif 80 < i:\n",
    "        resps.append('Good for the flowers?')\n",
    "    elif 50 < i:\n",
    "        resps.append('Watch out for clouds!')\n",
    "    else:\n",
    "        resps.append('Nice day!')\n",
    "        \n",
    "print(resps)"
   ]
  },
  {
   "cell_type": "code",
   "execution_count": null,
   "metadata": {},
   "outputs": [],
   "source": []
  },
  {
   "cell_type": "code",
   "execution_count": null,
   "metadata": {},
   "outputs": [],
   "source": []
  },
  {
   "cell_type": "code",
   "execution_count": null,
   "metadata": {},
   "outputs": [],
   "source": []
  }
 ],
 "metadata": {
  "kernelspec": {
   "display_name": "Python 3",
   "language": "python",
   "name": "python3"
  },
  "language_info": {
   "codemirror_mode": {
    "name": "ipython",
    "version": 3
   },
   "file_extension": ".py",
   "mimetype": "text/x-python",
   "name": "python",
   "nbconvert_exporter": "python",
   "pygments_lexer": "ipython3",
   "version": "3.7.3"
  }
 },
 "nbformat": 4,
 "nbformat_minor": 2
}
